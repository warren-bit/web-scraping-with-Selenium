{
 "cells": [
  {
   "cell_type": "code",
   "execution_count": 1,
   "metadata": {},
   "outputs": [],
   "source": [
    "from lib2to3.pgen2 import driver\n",
    "from selenium import webdriver\n",
    "from selenium.webdriver.common.keys import Keys\n",
    "from selenium.webdriver.common.by import By\n",
    "from selenium.webdriver.support.ui import WebDriverWait\n",
    "from selenium.webdriver.support import expected_conditions as EC\n",
    "from selenium.webdriver.chrome.service import Service\n",
    "import time"
   ]
  },
  {
   "cell_type": "code",
   "execution_count": 2,
   "metadata": {},
   "outputs": [
    {
     "name": "stdout",
     "output_type": "stream",
     "text": [
      "12\n"
     ]
    }
   ],
   "source": [
    "s = Service(r\"./driver/chromedriver.exe\")\n",
    "driver = webdriver.Chrome(service=s)\n",
    "# driver.implicitly_wait(10)\n",
    "driver.get(\"https://www.amazon.com/b?node=283155\")\n",
    "search = driver.find_element(\"id\", 'twotabsearchtextbox')\n",
    "search.send_keys(\"books\")\n",
    "search.send_keys(Keys.RETURN)\n",
    "data = []\n",
    "try:\n",
    "    books = WebDriverWait(driver, 10).until(\n",
    "    EC.visibility_of_all_elements_located((By.ID, 'gridItemRoot'))\n",
    "    )\n",
    "    print(len(books))\n",
    "    for book in books:\n",
    "        title = book.find_element(By.TAG_NAME, 'span').text\n",
    "        price = book.find_element(By.CLASS_NAME, '_cDEzb_p13n-sc-price_3mJ9Z').text\n",
    "        data.append((title,price))\n",
    "finally:\n",
    "    driver.quit()"
   ]
  },
  {
   "cell_type": "code",
   "execution_count": 3,
   "metadata": {},
   "outputs": [
    {
     "data": {
      "text/html": [
       "<div>\n",
       "<style scoped>\n",
       "    .dataframe tbody tr th:only-of-type {\n",
       "        vertical-align: middle;\n",
       "    }\n",
       "\n",
       "    .dataframe tbody tr th {\n",
       "        vertical-align: top;\n",
       "    }\n",
       "\n",
       "    .dataframe thead th {\n",
       "        text-align: right;\n",
       "    }\n",
       "</style>\n",
       "<table border=\"1\" class=\"dataframe\">\n",
       "  <thead>\n",
       "    <tr style=\"text-align: right;\">\n",
       "      <th></th>\n",
       "      <th>title</th>\n",
       "      <th>price</th>\n",
       "    </tr>\n",
       "  </thead>\n",
       "  <tbody>\n",
       "    <tr>\n",
       "      <th>0</th>\n",
       "      <td>It Starts with Us: A Novel (2) (It Ends with Us)</td>\n",
       "      <td>$12.99</td>\n",
       "    </tr>\n",
       "    <tr>\n",
       "      <th>1</th>\n",
       "      <td>I'm So Glad You Were Born: Celebrating Who You...</td>\n",
       "      <td>$14.24</td>\n",
       "    </tr>\n",
       "    <tr>\n",
       "      <th>2</th>\n",
       "      <td>Verity</td>\n",
       "      <td>$11.26</td>\n",
       "    </tr>\n",
       "    <tr>\n",
       "      <th>3</th>\n",
       "      <td>I'm Glad My Mom Died</td>\n",
       "      <td>$18.51</td>\n",
       "    </tr>\n",
       "    <tr>\n",
       "      <th>4</th>\n",
       "      <td>Live Wire: Long-Winded Short Stories</td>\n",
       "      <td>$19.34</td>\n",
       "    </tr>\n",
       "    <tr>\n",
       "      <th>5</th>\n",
       "      <td>It Ends with Us: A Novel (1)</td>\n",
       "      <td>$9.99</td>\n",
       "    </tr>\n",
       "    <tr>\n",
       "      <th>6</th>\n",
       "      <td>Confidence Man: The Making of Donald Trump and...</td>\n",
       "      <td>$20.77</td>\n",
       "    </tr>\n",
       "    <tr>\n",
       "      <th>7</th>\n",
       "      <td>Atomic Habits: An Easy &amp; Proven Way to Build G...</td>\n",
       "      <td>$11.98</td>\n",
       "    </tr>\n",
       "    <tr>\n",
       "      <th>8</th>\n",
       "      <td>Fairy Tale</td>\n",
       "      <td>$18.49</td>\n",
       "    </tr>\n",
       "    <tr>\n",
       "      <th>9</th>\n",
       "      <td>Killing the Legends: The Lethal Danger of Cele...</td>\n",
       "      <td>$19.98</td>\n",
       "    </tr>\n",
       "    <tr>\n",
       "      <th>10</th>\n",
       "      <td>The Body Keeps the Score: Brain, Mind, and Bod...</td>\n",
       "      <td>$11.40</td>\n",
       "    </tr>\n",
       "    <tr>\n",
       "      <th>11</th>\n",
       "      <td>Where the Crawdads Sing</td>\n",
       "      <td>$9.98</td>\n",
       "    </tr>\n",
       "  </tbody>\n",
       "</table>\n",
       "</div>"
      ],
      "text/plain": [
       "                                                title   price\n",
       "0    It Starts with Us: A Novel (2) (It Ends with Us)  $12.99\n",
       "1   I'm So Glad You Were Born: Celebrating Who You...  $14.24\n",
       "2                                              Verity  $11.26\n",
       "3                                I'm Glad My Mom Died  $18.51\n",
       "4                Live Wire: Long-Winded Short Stories  $19.34\n",
       "5                        It Ends with Us: A Novel (1)   $9.99\n",
       "6   Confidence Man: The Making of Donald Trump and...  $20.77\n",
       "7   Atomic Habits: An Easy & Proven Way to Build G...  $11.98\n",
       "8                                          Fairy Tale  $18.49\n",
       "9   Killing the Legends: The Lethal Danger of Cele...  $19.98\n",
       "10  The Body Keeps the Score: Brain, Mind, and Bod...  $11.40\n",
       "11                            Where the Crawdads Sing   $9.98"
      ]
     },
     "execution_count": 3,
     "metadata": {},
     "output_type": "execute_result"
    }
   ],
   "source": [
    "import pandas as pd\n",
    "import numpy as np\n",
    "\n",
    "df = pd.DataFrame(data, columns= [\"title\", \"price\"])\n",
    "df"
   ]
  },
  {
   "cell_type": "code",
   "execution_count": 4,
   "metadata": {},
   "outputs": [
    {
     "name": "stdout",
     "output_type": "stream",
     "text": [
      "<class 'pandas.core.frame.DataFrame'>\n",
      "RangeIndex: 12 entries, 0 to 11\n",
      "Data columns (total 2 columns):\n",
      " #   Column  Non-Null Count  Dtype \n",
      "---  ------  --------------  ----- \n",
      " 0   title   12 non-null     object\n",
      " 1   price   12 non-null     object\n",
      "dtypes: object(2)\n",
      "memory usage: 320.0+ bytes\n"
     ]
    }
   ],
   "source": [
    "df.info()"
   ]
  },
  {
   "cell_type": "code",
   "execution_count": null,
   "metadata": {},
   "outputs": [],
   "source": []
  }
 ],
 "metadata": {
  "kernelspec": {
   "display_name": "Python 3 (ipykernel)",
   "language": "python",
   "name": "python3"
  },
  "language_info": {
   "codemirror_mode": {
    "name": "ipython",
    "version": 3
   },
   "file_extension": ".py",
   "mimetype": "text/x-python",
   "name": "python",
   "nbconvert_exporter": "python",
   "pygments_lexer": "ipython3",
   "version": "3.10.7"
  },
  "vscode": {
   "interpreter": {
    "hash": "76d7c06053c3456e5600312cec90888656fc0ed30c03d8425b9dac6e4fc8e014"
   }
  }
 },
 "nbformat": 4,
 "nbformat_minor": 2
}
